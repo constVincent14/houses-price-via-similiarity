{
 "cells": [
  {
   "cell_type": "markdown",
   "id": "ff8b0c07",
   "metadata": {},
   "source": [
    "<h3>Part 1: Load Data</h3>\n",
    "<p>Objectives: Predict 'harga' based on similiarity of samples to the actual data</p>"
   ]
  },
  {
   "cell_type": "code",
   "execution_count": 1,
   "id": "99250736",
   "metadata": {},
   "outputs": [
    {
     "name": "stdout",
     "output_type": "stream",
     "text": [
      "[{'tanah': '70', 'bangunan': '50', 'jarak_ke_pusat': '15', 'harga': '500'}, {'tanah': '70', 'bangunan': '60', 'jarak_ke_pusat': '30', 'harga': '400'}, {'tanah': '70', 'bangunan': '60', 'jarak_ke_pusat': '55', 'harga': '300'}, {'tanah': '100', 'bangunan': '50', 'jarak_ke_pusat': '30', 'harga': '700'}, {'tanah': '100', 'bangunan': '70', 'jarak_ke_pusat': '25', 'harga': '1000'}, {'tanah': '100', 'bangunan': '70', 'jarak_ke_pusat': '50', 'harga': '650'}, {'tanah': '120', 'bangunan': '100', 'jarak_ke_pusat': '20', 'harga': '2000'}, {'tanah': '120', 'bangunan': '80', 'jarak_ke_pusat': '50', 'harga': '1200'}, {'tanah': '150', 'bangunan': '100', 'jarak_ke_pusat': '50', 'harga': '1800'}, {'tanah': '150', 'bangunan': '90', 'jarak_ke_pusat': '15', 'harga': '3000'}]\n"
     ]
    }
   ],
   "source": [
    "import requests\n",
    "from contextlib import closing\n",
    "import csv\n",
    "# STEP 1: \n",
    "# read file \"harga_rumah.txt\"\n",
    "url = \"https://storage.googleapis.com/dqlab-dataset/harga_rumah.txt\"\n",
    "data_harga_rumah = []\n",
    "with closing(requests.get(url, stream=True)) as r:\n",
    "    f = (line.decode('utf-8') for line in r.iter_lines())\n",
    "    data_harga_rumah = [row for row in csv.reader(f)]\n",
    "\n",
    "# make a list of dictionary: harga_rumah\n",
    "key_harga_rumah = data_harga_rumah[0]\n",
    "harga_rumah = []\n",
    "for baris_harga_rumah in data_harga_rumah[1:]:\n",
    "    dict_harga_rumah = dict()\n",
    "    for i in range(len(baris_harga_rumah)):\n",
    "        dict_harga_rumah[key_harga_rumah[i]] = baris_harga_rumah[i]\n",
    "    harga_rumah.append(dict_harga_rumah)\n",
    "\n",
    "print(harga_rumah)"
   ]
  },
  {
   "cell_type": "markdown",
   "id": "ff8ac4a1",
   "metadata": {},
   "source": [
    "<h3>Part 2: Convert Data into Pandas DataFrame</h3>"
   ]
  },
  {
   "cell_type": "code",
   "execution_count": 2,
   "id": "841f0af5",
   "metadata": {
    "scrolled": true
   },
   "outputs": [
    {
     "name": "stdout",
     "output_type": "stream",
     "text": [
      "{'tanah': [70.0, 70.0, 70.0, 100.0, 100.0, 100.0, 120.0, 120.0, 150.0, 150.0], 'bangunan': [50.0, 60.0, 60.0, 50.0, 70.0, 70.0, 100.0, 80.0, 100.0, 90.0], 'jarak_ke_pusat': [15.0, 30.0, 55.0, 30.0, 25.0, 50.0, 20.0, 50.0, 50.0, 15.0], 'harga': [500.0, 400.0, 300.0, 700.0, 1000.0, 650.0, 2000.0, 1200.0, 1800.0, 3000.0]} \n",
      "\n",
      "   tanah  bangunan  jarak_ke_pusat   harga\n",
      "0   70.0      50.0            15.0   500.0\n",
      "1   70.0      60.0            30.0   400.0\n",
      "2   70.0      60.0            55.0   300.0\n",
      "3  100.0      50.0            30.0   700.0\n",
      "4  100.0      70.0            25.0  1000.0\n",
      "(10, 4)\n"
     ]
    }
   ],
   "source": [
    "import numpy as np\n",
    "import pandas as pd\n",
    "\n",
    "col_names = key_harga_rumah\n",
    "data_dict = {}\n",
    "\n",
    "for col in col_names:\n",
    "    temp_list = []\n",
    "    for row in harga_rumah:\n",
    "        temp_list.append(float(row[col]))\n",
    "    data_dict[col] = temp_list\n",
    "\n",
    "print(data_dict, \"\\n\")\n",
    "\n",
    "#convert data into dataframe: data_df\n",
    "data_df = pd.DataFrame(data_dict)\n",
    "print(data_df.head(), data_df.shape, sep='\\n')"
   ]
  },
  {
   "cell_type": "markdown",
   "id": "25dc46b1",
   "metadata": {},
   "source": [
    "<h3>Part 3: Define Functions and Transforming Data</h3>"
   ]
  },
  {
   "cell_type": "code",
   "execution_count": 3,
   "id": "79d7aafe",
   "metadata": {},
   "outputs": [
    {
     "name": "stdout",
     "output_type": "stream",
     "text": [
      "TRANSFORMED DATA: \n",
      "   tanah  bangunan  jarak_ke_pusat   harga\n",
      "0  0.000       0.0           0.000   500.0\n",
      "1  0.000       0.2           0.375   400.0\n",
      "2  0.000       0.2           1.000   300.0\n",
      "3  0.375       0.0           0.375   700.0\n",
      "4  0.375       0.4           0.250  1000.0\n",
      "(10, 4)\n",
      "\n",
      "\n",
      "   tanah  bangunan  jarak_ke_pusat\n",
      "0  0.500       0.6             0.5\n",
      "1  0.375       0.4             0.0\n",
      "2  0.250       0.5             1.0\n",
      "(3, 3)\n"
     ]
    }
   ],
   "source": [
    "#User-defined function\n",
    "def min_value(data):\n",
    "    temp_min = data[0]\n",
    "    for each in data[1:]:\n",
    "        if each < temp_min:\n",
    "            temp_min = each\n",
    "    return temp_min\n",
    "\n",
    "def max_value(data):\n",
    "    temp_max = data[0]\n",
    "    for each in data[1:]:\n",
    "        if each > temp_max:\n",
    "            temp_max = each\n",
    "    return temp_max\n",
    "\n",
    "def transform_col(data):\n",
    "    min_data = min_value(data)\n",
    "    max_data = max_value(data)\n",
    "    \n",
    "    temp_list = []\n",
    "    for each in data:\n",
    "        hasil = (each - min_data)/(max_data - min_data)\n",
    "        temp_list.append(hasil)    \n",
    "    return temp_list\n",
    "\n",
    "def transform(data, sample):\n",
    "    sample_dict = {}\n",
    "    for col in data.columns[:3]:\n",
    "        max_data = max_value(data[col])\n",
    "        min_data = min_value(data[col])\n",
    "        temp_list = []\n",
    "        for each in sample[col]:\n",
    "            temp_list.append((each-min_data)/(max_data-min_data))\n",
    "        sample_dict[col] = temp_list\n",
    "    return pd.DataFrame(sample_dict)\n",
    "\n",
    "def abs_value(num):\n",
    "    if num < 0:\n",
    "        return num * -1\n",
    "    else:\n",
    "        return num\n",
    "\n",
    "\n",
    "#transforming data:\n",
    "data_t_dict = {}\n",
    "for col in col_names[:3]:\n",
    "    data_t_dict[col] = transform_col(data_df[col].values)\n",
    "data_t_dict[col_names[-1]] = data_df.iloc[:,-1].values # only 'harga' column not transformed\n",
    "\n",
    "data_t_df = pd.DataFrame(data_t_dict)\n",
    "print(\"TRANSFORMED DATA: \", data_t_df.head(), data_t_df.shape, sep='\\n')\n",
    "\n",
    "\n",
    "#samples we want to predict: sample\n",
    "sample = {'tanah': [110,100,90], 'bangunan': [80,70,75], 'jarak_ke_pusat': [35,15,55]}\n",
    "sample_df = pd.DataFrame(sample)\n",
    "sample_t_df = transform(data_df, sample_df)\n",
    "print(\"\\n\",sample_t_df, sample_t_df.shape, sep=\"\\n\")\n"
   ]
  },
  {
   "cell_type": "markdown",
   "id": "ea9a0d15",
   "metadata": {},
   "source": [
    "<h3>Part 4: Predicting Houses Price</h3>"
   ]
  },
  {
   "cell_type": "code",
   "execution_count": 4,
   "id": "1a0a364c",
   "metadata": {},
   "outputs": [
    {
     "name": "stdout",
     "output_type": "stream",
     "text": [
      "   tanah  bangunan  jarak_ke_pusat   harga\n",
      "0  0.500       0.6             0.5  1200.0\n",
      "1  0.375       0.4             0.0  1000.0\n",
      "2  0.250       0.5             1.0   650.0\n"
     ]
    }
   ],
   "source": [
    "def pred_similiarity(data_dataframe,sample_dataframe):\n",
    "    harga = []\n",
    "    for i in range(sample_dataframe.shape[0]):\n",
    "        temp_result = []\n",
    "        for col in sample_dataframe.columns:\n",
    "            temp_diff = data_dataframe[col] - sample_dataframe.loc[i, col]\n",
    "            temp_result.append(np.array([abs_value(each) for each in temp_diff]))\n",
    "        \n",
    "        array_result = 0\n",
    "        for each in temp_result:\n",
    "            array_result += each\n",
    "        \n",
    "        harga.append(data_df['harga'][np.argmin(array_result)])\n",
    "    \n",
    "    return np.array(harga)\n",
    "\n",
    "pred_harga = pred_similiarity(data_t_df, sample_t_df)\n",
    "sample_t_df['harga'] = pred_harga\n",
    "\n",
    "print(sample_t_df)"
   ]
  }
 ],
 "metadata": {
  "kernelspec": {
   "display_name": "Python 3 (ipykernel)",
   "language": "python",
   "name": "python3"
  },
  "language_info": {
   "codemirror_mode": {
    "name": "ipython",
    "version": 3
   },
   "file_extension": ".py",
   "mimetype": "text/x-python",
   "name": "python",
   "nbconvert_exporter": "python",
   "pygments_lexer": "ipython3",
   "version": "3.10.2"
  }
 },
 "nbformat": 4,
 "nbformat_minor": 5
}
